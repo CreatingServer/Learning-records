{
 "cells": [
  {
   "cell_type": "markdown",
   "metadata": {},
   "source": [
    "## 一、探索性数据分析"
   ]
  },
  {
   "cell_type": "markdown",
   "metadata": {},
   "source": [
    "载入本章需要用到的程序包"
   ]
  },
  {
   "cell_type": "code",
   "execution_count": 2,
   "metadata": {},
   "outputs": [],
   "source": [
    "from lenskit.topn import  UnratedCandidates, ndcg, RecListAnalysis\n",
    "from lenskit.batch import recommend, predict\n",
    "from lenskit.crossfold import partition_users, SampleFrac, SampleN\n",
    "from lenskit.algorithms.item_knn import ItemItem\n",
    "from lenskit.algorithms.basic import Bias\n",
    "from lenskit.metrics.predict import rmse\n",
    "from lenskit.algorithms.als import BiasedMF\n",
    "import lenskit\n",
    "import pandas as pd\n",
    "import matplotlib.pyplot as plt\n",
    "import numpy as np\n",
    "import seaborn as sns\n",
    "from lenskit import *"
   ]
  },
  {
   "cell_type": "markdown",
   "metadata": {},
   "source": [
    "第一个数据集是电影评分历史数据集，包含100836个样本，每个样本包含4个属性\n",
    "\n",
    "第二个数据集是电影信息数据集，由美国运输局收集整理，包含9742个样本，每个样本包含3个属性"
   ]
  },
  {
   "cell_type": "markdown",
   "metadata": {},
   "source": [
    "### 1. 数据读取\n",
    "\n",
    "读取电影评分历史数据集ratings，修改变量名称，并查看数据集的维度和前几行。"
   ]
  },
  {
   "cell_type": "code",
   "execution_count": 3,
   "metadata": {},
   "outputs": [
    {
     "name": "stdout",
     "output_type": "stream",
     "text": [
      "(100836, 4)\n"
     ]
    },
    {
     "data": {
      "text/html": [
       "<div>\n",
       "<style scoped>\n",
       "    .dataframe tbody tr th:only-of-type {\n",
       "        vertical-align: middle;\n",
       "    }\n",
       "\n",
       "    .dataframe tbody tr th {\n",
       "        vertical-align: top;\n",
       "    }\n",
       "\n",
       "    .dataframe thead th {\n",
       "        text-align: right;\n",
       "    }\n",
       "</style>\n",
       "<table border=\"1\" class=\"dataframe\">\n",
       "  <thead>\n",
       "    <tr style=\"text-align: right;\">\n",
       "      <th></th>\n",
       "      <th>user</th>\n",
       "      <th>item</th>\n",
       "      <th>rating</th>\n",
       "      <th>timestamp</th>\n",
       "    </tr>\n",
       "  </thead>\n",
       "  <tbody>\n",
       "    <tr>\n",
       "      <th>0</th>\n",
       "      <td>1</td>\n",
       "      <td>1</td>\n",
       "      <td>4.0</td>\n",
       "      <td>964982703</td>\n",
       "    </tr>\n",
       "    <tr>\n",
       "      <th>1</th>\n",
       "      <td>1</td>\n",
       "      <td>3</td>\n",
       "      <td>4.0</td>\n",
       "      <td>964981247</td>\n",
       "    </tr>\n",
       "    <tr>\n",
       "      <th>2</th>\n",
       "      <td>1</td>\n",
       "      <td>6</td>\n",
       "      <td>4.0</td>\n",
       "      <td>964982224</td>\n",
       "    </tr>\n",
       "    <tr>\n",
       "      <th>3</th>\n",
       "      <td>1</td>\n",
       "      <td>47</td>\n",
       "      <td>5.0</td>\n",
       "      <td>964983815</td>\n",
       "    </tr>\n",
       "    <tr>\n",
       "      <th>4</th>\n",
       "      <td>1</td>\n",
       "      <td>50</td>\n",
       "      <td>5.0</td>\n",
       "      <td>964982931</td>\n",
       "    </tr>\n",
       "  </tbody>\n",
       "</table>\n",
       "</div>"
      ],
      "text/plain": [
       "   user  item  rating  timestamp\n",
       "0     1     1     4.0  964982703\n",
       "1     1     3     4.0  964981247\n",
       "2     1     6     4.0  964982224\n",
       "3     1    47     5.0  964983815\n",
       "4     1    50     5.0  964982931"
      ]
     },
     "execution_count": 3,
     "metadata": {},
     "output_type": "execute_result"
    }
   ],
   "source": [
    "ratings = pd.read_csv('./Datasets/ml-latest-small/ratings.csv')\n",
    "ratings = ratings.rename(columns={'userId': 'user', 'movieId': 'item'})\n",
    "print(ratings.shape)\n",
    "ratings.head()"
   ]
  },
  {
   "cell_type": "markdown",
   "metadata": {},
   "source": [
    "读取电影信息数据集`movies`，修改变量名称，并查看数据集的维度和前几行。"
   ]
  },
  {
   "cell_type": "code",
   "execution_count": 4,
   "metadata": {},
   "outputs": [
    {
     "name": "stdout",
     "output_type": "stream",
     "text": [
      "(9742, 3)\n",
      "\n",
      "   items                               title                                       genres\n",
      "0      1                    Toy Story (1995)  Adventure|Animation|Children|Comedy|Fantasy\n",
      "1      2                      Jumanji (1995)                   Adventure|Children|Fantasy\n",
      "2      3             Grumpier Old Men (1995)                               Comedy|Romance\n",
      "3      4            Waiting to Exhale (1995)                         Comedy|Drama|Romance\n",
      "4      5  Father of the Bride Part II (1995)                                       Comedy\n"
     ]
    }
   ],
   "source": [
    "movies = pd.read_csv('./Datasets/ml-latest-small/movies.csv')\n",
    "movies = movies.rename(columns={'movieId': 'items'})\n",
    "print(movies.shape)\n",
    "print('\\n'+ movies.head().to_string())"
   ]
  },
  {
   "cell_type": "markdown",
   "metadata": {},
   "source": [
    "### 2. 数据聚合与连接\n",
    "\n",
    "基于电影评分历史数据集`ratings`，按照电影（变量item）做聚合，计算各电影的平均评分和评分数量，并查看前几行"
   ]
  },
  {
   "cell_type": "code",
   "execution_count": 5,
   "metadata": {},
   "outputs": [
    {
     "data": {
      "text/html": [
       "<div>\n",
       "<style scoped>\n",
       "    .dataframe tbody tr th:only-of-type {\n",
       "        vertical-align: middle;\n",
       "    }\n",
       "\n",
       "    .dataframe tbody tr th {\n",
       "        vertical-align: top;\n",
       "    }\n",
       "\n",
       "    .dataframe thead th {\n",
       "        text-align: right;\n",
       "    }\n",
       "</style>\n",
       "<table border=\"1\" class=\"dataframe\">\n",
       "  <thead>\n",
       "    <tr style=\"text-align: right;\">\n",
       "      <th></th>\n",
       "      <th>rating_mean</th>\n",
       "      <th>rating_count</th>\n",
       "      <th>items</th>\n",
       "    </tr>\n",
       "    <tr>\n",
       "      <th>item</th>\n",
       "      <th></th>\n",
       "      <th></th>\n",
       "      <th></th>\n",
       "    </tr>\n",
       "  </thead>\n",
       "  <tbody>\n",
       "    <tr>\n",
       "      <th>1</th>\n",
       "      <td>3.920930</td>\n",
       "      <td>215</td>\n",
       "      <td>1</td>\n",
       "    </tr>\n",
       "    <tr>\n",
       "      <th>2</th>\n",
       "      <td>3.431818</td>\n",
       "      <td>110</td>\n",
       "      <td>2</td>\n",
       "    </tr>\n",
       "    <tr>\n",
       "      <th>3</th>\n",
       "      <td>3.259615</td>\n",
       "      <td>52</td>\n",
       "      <td>3</td>\n",
       "    </tr>\n",
       "    <tr>\n",
       "      <th>4</th>\n",
       "      <td>2.357143</td>\n",
       "      <td>7</td>\n",
       "      <td>4</td>\n",
       "    </tr>\n",
       "    <tr>\n",
       "      <th>5</th>\n",
       "      <td>3.071429</td>\n",
       "      <td>49</td>\n",
       "      <td>5</td>\n",
       "    </tr>\n",
       "  </tbody>\n",
       "</table>\n",
       "</div>"
      ],
      "text/plain": [
       "      rating_mean  rating_count  items\n",
       "item                                  \n",
       "1        3.920930           215      1\n",
       "2        3.431818           110      2\n",
       "3        3.259615            52      3\n",
       "4        2.357143             7      4\n",
       "5        3.071429            49      5"
      ]
     },
     "execution_count": 5,
     "metadata": {},
     "output_type": "execute_result"
    }
   ],
   "source": [
    "movie_ratings = ratings.groupby('item')['rating'].agg(['mean', 'count']) \\\n",
    "    .rename(columns = {'mean' : 'rating_mean', 'count' : 'rating_count'})\n",
    "movie_ratings['items'] = movie_ratings.index\n",
    "movie_ratings.head()"
   ]
  },
  {
   "cell_type": "markdown",
   "metadata": {},
   "source": [
    "与电影信息数据集`movies`做内连接，添加电影的标题（变量`title`）和题材（变量`genres`），并查看前几行。"
   ]
  },
  {
   "cell_type": "code",
   "execution_count": 6,
   "metadata": {},
   "outputs": [
    {
     "name": "stdout",
     "output_type": "stream",
     "text": [
      "   rating_mean  rating_count  items                               title                                       genres\n",
      "0     3.920930           215      1                    Toy Story (1995)  Adventure|Animation|Children|Comedy|Fantasy\n",
      "1     3.431818           110      2                      Jumanji (1995)                   Adventure|Children|Fantasy\n",
      "2     3.259615            52      3             Grumpier Old Men (1995)                               Comedy|Romance\n",
      "3     2.357143             7      4            Waiting to Exhale (1995)                         Comedy|Drama|Romance\n",
      "4     3.071429            49      5  Father of the Bride Part II (1995)                                       Comedy\n"
     ]
    }
   ],
   "source": [
    "movie_ratings = pd.merge(movie_ratings, movies, on = 'items')\n",
    "print(movie_ratings.head().to_string())"
   ]
  },
  {
   "cell_type": "code",
   "execution_count": 7,
   "metadata": {},
   "outputs": [
    {
     "data": {
      "text/html": [
       "<div>\n",
       "<style scoped>\n",
       "    .dataframe tbody tr th:only-of-type {\n",
       "        vertical-align: middle;\n",
       "    }\n",
       "\n",
       "    .dataframe tbody tr th {\n",
       "        vertical-align: top;\n",
       "    }\n",
       "\n",
       "    .dataframe thead th {\n",
       "        text-align: right;\n",
       "    }\n",
       "</style>\n",
       "<table border=\"1\" class=\"dataframe\">\n",
       "  <thead>\n",
       "    <tr style=\"text-align: right;\">\n",
       "      <th></th>\n",
       "      <th>rating_mean</th>\n",
       "      <th>rating_count</th>\n",
       "      <th>items</th>\n",
       "      <th>title</th>\n",
       "      <th>genres</th>\n",
       "    </tr>\n",
       "  </thead>\n",
       "  <tbody>\n",
       "    <tr>\n",
       "      <th>0</th>\n",
       "      <td>3.920930</td>\n",
       "      <td>215</td>\n",
       "      <td>1</td>\n",
       "      <td>Toy Story (1995)</td>\n",
       "      <td>Adventure|Animation|Children|Comedy|Fantasy</td>\n",
       "    </tr>\n",
       "    <tr>\n",
       "      <th>1</th>\n",
       "      <td>3.431818</td>\n",
       "      <td>110</td>\n",
       "      <td>2</td>\n",
       "      <td>Jumanji (1995)</td>\n",
       "      <td>Adventure|Children|Fantasy</td>\n",
       "    </tr>\n",
       "    <tr>\n",
       "      <th>2</th>\n",
       "      <td>3.259615</td>\n",
       "      <td>52</td>\n",
       "      <td>3</td>\n",
       "      <td>Grumpier Old Men (1995)</td>\n",
       "      <td>Comedy|Romance</td>\n",
       "    </tr>\n",
       "    <tr>\n",
       "      <th>3</th>\n",
       "      <td>2.357143</td>\n",
       "      <td>7</td>\n",
       "      <td>4</td>\n",
       "      <td>Waiting to Exhale (1995)</td>\n",
       "      <td>Comedy|Drama|Romance</td>\n",
       "    </tr>\n",
       "    <tr>\n",
       "      <th>4</th>\n",
       "      <td>3.071429</td>\n",
       "      <td>49</td>\n",
       "      <td>5</td>\n",
       "      <td>Father of the Bride Part II (1995)</td>\n",
       "      <td>Comedy</td>\n",
       "    </tr>\n",
       "  </tbody>\n",
       "</table>\n",
       "</div>"
      ],
      "text/plain": [
       "   rating_mean  rating_count  items                               title  \\\n",
       "0     3.920930           215      1                    Toy Story (1995)   \n",
       "1     3.431818           110      2                      Jumanji (1995)   \n",
       "2     3.259615            52      3             Grumpier Old Men (1995)   \n",
       "3     2.357143             7      4            Waiting to Exhale (1995)   \n",
       "4     3.071429            49      5  Father of the Bride Part II (1995)   \n",
       "\n",
       "                                        genres  \n",
       "0  Adventure|Animation|Children|Comedy|Fantasy  \n",
       "1                   Adventure|Children|Fantasy  \n",
       "2                               Comedy|Romance  \n",
       "3                         Comedy|Drama|Romance  \n",
       "4                                       Comedy  "
      ]
     },
     "execution_count": 7,
     "metadata": {},
     "output_type": "execute_result"
    }
   ],
   "source": [
    "movie_ratings.dropna()\n",
    "movie_ratings.head()"
   ]
  },
  {
   "cell_type": "markdown",
   "metadata": {},
   "source": [
    "### 3. 电影评分分析\n",
    "\n",
    "绘制评分的分布图。"
   ]
  },
  {
   "cell_type": "code",
   "execution_count": 8,
   "metadata": {},
   "outputs": [
    {
     "name": "stderr",
     "output_type": "stream",
     "text": [
      "D:\\Anaconda3\\envs\\tensorflow_gpu\\lib\\site-packages\\seaborn\\_decorators.py:43: FutureWarning: Pass the following variable as a keyword arg: x. From version 0.12, the only valid positional argument will be `data`, and passing other arguments without an explicit keyword will result in an error or misinterpretation.\n",
      "  FutureWarning\n"
     ]
    },
    {
     "data": {
      "image/png": "[encoded data removed]",
      "text/plain": [
       "<Figure size 432x288 with 1 Axes>"
      ]
     },
     "metadata": {
      "needs_background": "light"
     },
     "output_type": "display_data"
    }
   ],
   "source": [
    "plt.figure()\n",
    "sns.countplot(ratings['rating'])\n",
    "plt.show()"
   ]
  },
  {
   "cell_type": "markdown",
   "metadata": {},
   "source": [
    "绘制各电影平均评分的分布图。"
   ]
  },
  {
   "cell_type": "code",
   "execution_count": 9,
   "metadata": {},
   "outputs": [
    {
     "name": "stderr",
     "output_type": "stream",
     "text": [
      "D:\\Anaconda3\\envs\\tensorflow_gpu\\lib\\site-packages\\seaborn\\distributions.py:2551: FutureWarning: `distplot` is a deprecated function and will be removed in a future version. Please adapt your code to use either `displot` (a figure-level function with similar flexibility) or `histplot` (an axes-level function for histograms).\n",
      "  warnings.warn(msg, FutureWarning)\n"
     ]
    },
    {
     "data": {
      "image/png": "[encoded data removed]",
      "text/plain": [
       "<Figure size 432x288 with 1 Axes>"
      ]
     },
     "metadata": {
      "needs_background": "light"
     },
     "output_type": "display_data"
    }
   ],
   "source": [
    "plt.figure()\n",
    "sns.distplot(movie_ratings['rating_mean'])\n",
    "plt.show()"
   ]
  },
  {
   "cell_type": "markdown",
   "metadata": {},
   "source": [
    "绘制各电影评分数量的分布图。"
   ]
  },
  {
   "cell_type": "code",
   "execution_count": 10,
   "metadata": {},
   "outputs": [
    {
     "name": "stderr",
     "output_type": "stream",
     "text": [
      "D:\\Anaconda3\\envs\\tensorflow_gpu\\lib\\site-packages\\seaborn\\distributions.py:2551: FutureWarning: `distplot` is a deprecated function and will be removed in a future version. Please adapt your code to use either `displot` (a figure-level function with similar flexibility) or `histplot` (an axes-level function for histograms).\n",
      "  warnings.warn(msg, FutureWarning)\n"
     ]
    },
    {
     "data": {
      "image/png": "[encoded data removed]",
      "text/plain": [
       "<Figure size 432x288 with 1 Axes>"
      ]
     },
     "metadata": {
      "needs_background": "light"
     },
     "output_type": "display_data"
    }
   ],
   "source": [
    "plt.figure()\n",
    "sns.distplot(movie_ratings['rating_count'])\n",
    "plt.show()"
   ]
  },
  {
   "cell_type": "markdown",
   "metadata": {},
   "source": [
    "得到平均评分最高且有100条以上评分的前20部电影。"
   ]
  },
  {
   "cell_type": "code",
   "execution_count": 11,
   "metadata": {},
   "outputs": [],
   "source": [
    "top20_rating_mean = movie_ratings.loc[movie_ratings['rating_count'] >= 100].\\\n",
    "    sort_values('rating_mean', ascending=False)[:20]"
   ]
  },
  {
   "cell_type": "markdown",
   "metadata": {},
   "source": [
    "绘制这20部电影的平均评分。"
   ]
  },
  {
   "cell_type": "code",
   "execution_count": 12,
   "metadata": {
    "scrolled": true
   },
   "outputs": [
    {
     "data": {
      "image/png": "[encoded data removed]",
      "text/plain": [
       "<Figure size 720x432 with 1 Axes>"
      ]
     },
     "metadata": {
      "needs_background": "light"
     },
     "output_type": "display_data"
    }
   ],
   "source": [
    "plt.figure(figsize=(10,6)) \n",
    "plt.subplots_adjust(left=0.5)\n",
    "plt.barh(np.arange(20), top20_rating_mean[\"rating_mean\"], align=\"center\") \n",
    "plt.yticks(np.arange(20), top20_rating_mean[\"title\"]) \n",
    "plt.gca().invert_yaxis()\n",
    "plt.show()"
   ]
  },
  {
   "cell_type": "markdown",
   "metadata": {},
   "source": [
    "得到评分数量最多的前20部电影。"
   ]
  },
  {
   "cell_type": "code",
   "execution_count": 13,
   "metadata": {},
   "outputs": [],
   "source": [
    "top20_rating_count = movie_ratings.sort_values('rating_count', ascending=False)[:20]"
   ]
  },
  {
   "cell_type": "markdown",
   "metadata": {},
   "source": [
    "绘制这20部电影的评分数量。"
   ]
  },
  {
   "cell_type": "code",
   "execution_count": 14,
   "metadata": {},
   "outputs": [
    {
     "data": {
      "image/png": "[encoded data removed]",
      "text/plain": [
       "<Figure size 720x432 with 1 Axes>"
      ]
     },
     "metadata": {
      "needs_background": "light"
     },
     "output_type": "display_data"
    }
   ],
   "source": [
    "plt.figure(figsize=(10,6)) \n",
    "plt.subplots_adjust(left=0.5)\n",
    "plt.barh(np.arange(20), top20_rating_count[\"rating_count\"], align=\"center\") \n",
    "plt.yticks(np.arange(20), top20_rating_count[\"title\"]) \n",
    "plt.gca().invert_yaxis()\n",
    "plt.show() "
   ]
  },
  {
   "cell_type": "markdown",
   "metadata": {},
   "source": [
    "## 二、数据预处理\n",
    "\n",
    "### 交叉验证数据分割\n",
    "\n",
    "将数据集分为5组训练集和测试集做5折交叉验证。在推荐系统中分割训练集和测试集时，通常按照用户而不是按照样本做分割，具体方法为：\n",
    "\n",
    "1. 将用户分割成5组测试集用户；\n",
    "2. 对于每组测试集用户，再进一步抽取这些用户20\\%的评分样本作为测试集；\n",
    "3. 创建对应的训练集，包含该组测试集用户得其余80\\%的评分样本以及所有非测试集用户的评分样本。\n",
    "\n",
    "调用程序包`lenskit.crossfold`中的函数`partition_users()`将数据集分割为5折交叉验证中各折对应的训练集和测试集，其中\n",
    "\n",
    "* 第1个参数`data`表示用户评分数据框；\n",
    "* 第2个参数`partitions`表示分割用户的分组数，即交叉验证的折数；\n",
    "* 第3个参数`method`表示每个用户抽取评分样本的方法，这里为抽取20\\%；\n",
    "* 返回结果为成对训练集和测试集的迭代器。"
   ]
  },
  {
   "cell_type": "code",
   "execution_count": 15,
   "metadata": {},
   "outputs": [],
   "source": [
    "np.random.seed(123)\n",
    "train_folds = []\n",
    "test_folds = []\n",
    "for train, test in partition_users(ratings[['user', 'item', 'rating']], 5, SampleFrac(0.2)):\n",
    "    train_folds.append(train)\n",
    "    test_folds.append(test)"
   ]
  },
  {
   "cell_type": "markdown",
   "metadata": {},
   "source": [
    "查看每组训练集和测试集的形状。"
   ]
  },
  {
   "cell_type": "code",
   "execution_count": 16,
   "metadata": {
    "scrolled": true
   },
   "outputs": [
    {
     "name": "stdout",
     "output_type": "stream",
     "text": [
      "Fold 0: Train - (96479, 3), Test - (4357, 3)\n",
      "Fold 1: Train - (97123, 3), Test - (3713, 3)\n",
      "Fold 2: Train - (96981, 3), Test - (3855, 3)\n",
      "Fold 3: Train - (96982, 3), Test - (3854, 3)\n",
      "Fold 4: Train - (96451, 3), Test - (4385, 3)\n"
     ]
    }
   ],
   "source": [
    "for i in range(5):\n",
    "    print(\"Fold \" + str(i) + \": Train - \" + str(train_folds[i].shape) + \", Test - \" + str(test_folds[i].shape))"
   ]
  },
  {
   "cell_type": "markdown",
   "metadata": {},
   "source": [
    "### 候选推荐数据准备\n",
    "\n",
    "合并所有的测试集，为后续章节模型性能评估做准备。"
   ]
  },
  {
   "cell_type": "code",
   "execution_count": 17,
   "metadata": {},
   "outputs": [
    {
     "name": "stdout",
     "output_type": "stream",
     "text": [
      "   user  item  rating\n",
      "0     6   180     2.0\n",
      "1     6   469     4.0\n",
      "2     6   256     3.0\n",
      "3     6   497     3.0\n",
      "4     6   596     3.0\n"
     ]
    }
   ],
   "source": [
    "test_all = pd.concat([test for test in test_folds], ignore_index=True)\n",
    "print(test_all.head())"
   ]
  },
  {
   "cell_type": "markdown",
   "metadata": {},
   "source": [
    "在给用户做电影推荐时，需要提供一个候选推荐列表。数据集中有部分电影只有极少数的评分，因此并不稳定，这里排出所有评分少于5条的电影。"
   ]
  },
  {
   "cell_type": "code",
   "execution_count": 18,
   "metadata": {},
   "outputs": [
    {
     "name": "stdout",
     "output_type": "stream",
     "text": [
      "(72258, 3)\n"
     ]
    }
   ],
   "source": [
    "item_count = ratings.groupby('item').size()\n",
    "item_candidates = item_count[item_count >= 5].index.tolist()\n",
    "candidates = pd.concat([ratings[['user', 'item', 'rating']], test_all]).drop_duplicates(keep=False)\n",
    "candidates = candidates.loc[candidates['item'].isin(item_candidates)]\n",
    "print(candidates.shape)"
   ]
  },
  {
   "cell_type": "markdown",
   "metadata": {},
   "source": [
    "## 三、基于个性化平均评分的推荐\n",
    "\n",
    "用户电影偏移量评分预测算法定义为：\n",
    "\n",
    "$$\n",
    "s(u,i) = \\mu + b_i + b_u\n",
    "$$\n",
    "\n",
    "其中，$\\mu$是全局平均评分，$b_i$是电影偏移量$b_u$是用户偏移量。进一步引入阻尼参数$\\beta_u$和$\\beta_i$，计算公式为\n",
    "\n",
    "$$\n",
    "\\mu = \\frac{\\sum_{r_{ui} \\in R} r_{ui}}{|R|} \\\\\n",
    "b_i = \\frac{\\sum_{r_{ui} \\in R_i} (r_{ui} - \\mu)}{|R_i| + \\beta_i} \\\\\n",
    "b_u = \\frac{\\sum_{r_{ui} \\in R_u} (r_{ui} - \\mu - b_i)}{|R_u| + \\beta_u}\n",
    "$$\n",
    "\n",
    "调用程序包`lenskit.algorithms.basic`中的构造函数`Bias()`创建偏移算法，其中\n",
    "\n",
    "* 第1个参数`items`表示是否计算电影偏移量，默认为是；\n",
    "* 第2个参数`users`表示是否计算用户偏移量，默认为是；\n",
    "* 第3个参数`damping`表示阻尼参数。\n"
   ]
  },
  {
   "cell_type": "code",
   "execution_count": 20,
   "metadata": {},
   "outputs": [],
   "source": [
    "algo_bias = Bias()"
   ]
  },
  {
   "cell_type": "markdown",
   "metadata": {},
   "source": [
    "主要以两种方式评估推荐算法。第一种是由推荐算法预测每个用户评分最高的前$k$个电影列表，与实际该用户评分了的电影做对比，计算根据排名加权的重合度。第二种是由推荐算法预测每个用户已评分的电影的评分，与真实值做对比计算误差。\n",
    "\n",
    "### 1. 推荐列表\n",
    "\n",
    "遍历5组训练集和测试集，每次迭代用训练集做训练，并给测试集中的所有用户推荐每个用户评分最高的前100个电影列表。\n",
    "\n",
    "程序包`lenskit.batch`中的函数`recommend()`用于给用户批量推荐影片，其中\n",
    "\n",
    "* 第1个参数`algo`表示推荐算法；\n",
    "* 第2个参数`users`表示需要推荐的用户列表，这里为所有测试集中的独立用户；\n",
    "* 第3个参数`n`表示推荐的电影数量；\n",
    "* 第4个参数`candidates`表示候选推荐列表，这里调用程序包`lenskit.topn`中的构造函数`UnratedCandidates()`返回每个用户没有评分过的电影列表。"
   ]
  },
  {
   "cell_type": "code",
   "execution_count": 21,
   "metadata": {
    "scrolled": true
   },
   "outputs": [],
   "source": [
    "recs_all = []\n",
    "for i in range(5):\n",
    "    train, test = train_folds[i], test_folds[i]\n",
    "    algo_bias.fit(train)\n",
    "    users = test.user.unique()\n",
    "    recs = recommend(algo_bias, users, 100, UnratedCandidates(candidates))\n",
    "    recs_all.append(recs)"
   ]
  },
  {
   "cell_type": "markdown",
   "metadata": {},
   "source": [
    "合并所有测试集的推荐列表，为模型性能评估做准备。"
   ]
  },
  {
   "cell_type": "code",
   "execution_count": 22,
   "metadata": {},
   "outputs": [
    {
     "name": "stdout",
     "output_type": "stream",
     "text": [
      "     item     score  user  rank\n",
      "0    6460  5.327164     6     1\n",
      "1  177593  5.077164     6     2\n",
      "2   31364  5.027164     6     3\n",
      "3    2239  4.927164     6     4\n",
      "4    4334  4.927164     6     5\n"
     ]
    }
   ],
   "source": [
    "recs_bias = pd.concat(recs_all, ignore_index=True)\n",
    "print(recs_bias.head())"
   ]
  },
  {
   "cell_type": "markdown",
   "metadata": {},
   "source": [
    "使用偏移算法的属性`mean_`、`item_offsets_`和`user_offsets_`分别得到全局平均评分$\\mu$、标识符为1的电影（《玩具总动员1》）偏移量$b_i$和标识符为145的用户偏移量$b_u$。"
   ]
  },
  {
   "cell_type": "code",
   "execution_count": 23,
   "metadata": {},
   "outputs": [
    {
     "name": "stdout",
     "output_type": "stream",
     "text": [
      "3.5002643829509283\n",
      "0.4599346220241948\n",
      "-0.23977443873998147\n"
     ]
    }
   ],
   "source": [
    "print(algo_bias.mean_)   # 全局平均评分\n",
    "print(algo_bias.item_offsets_[1])   # 标识符为1的电影的偏移量\n",
    "print(algo_bias.user_offsets_[145])   # 标识符为145的用户偏移量"
   ]
  },
  {
   "cell_type": "markdown",
   "metadata": {},
   "source": [
    "调用程序包`lenskit.topn`中的构造函数`RecListAnalysis()`创建推荐列表分析对象。进一步调用该对象的函数`add_metric`添加评价指标，这里添加的指标为归一化衰减累积增益（normalized discounted cumulative gain，简称NDCG），这里调用程序包`lenskit.metrics.topn`中的函数`ndcg()`得到。\n",
    "\n",
    "归一化衰减累积增益定义为：\n",
    "\n",
    "$$\n",
    "\\mathrm{DCG}(L,u) = \\sum_{i=1}^{|L|} \\frac{r_{ui}}{d(i)} \\\\\n",
    "\\mathrm{nDCG}(L, u) = \\frac{\\mathrm{DCG}(L,u)}{\\mathrm{DCG}(L_{\\mathrm{ideal}}, u)}\n",
    "$$\n",
    "\n",
    "其中，$L$是按推荐评分降序排列的电影列表，$L_{\\mathrm{ideal}}$是按用户真实评分降序排列的电影列表，$u$是用户，$i$是排名，$r_{ui}$是用户$u$对排在第$i$位电影的评分。\n",
    "\n",
    "调用推荐列表分析对象的函数`compute()`计算评价指标，其中\n",
    "\n",
    "* 第1个参数`recs`表示推荐评分的电影列表；\n",
    "* 第2个参数`truth`表示用户真实评分的电影列表；\n",
    "* 返回结果为每个用户的评价指标值，这里为NDCG。"
   ]
  },
  {
   "cell_type": "code",
   "execution_count": 24,
   "metadata": {},
   "outputs": [
    {
     "name": "stdout",
     "output_type": "stream",
     "text": [
      "      nrecs      ndcg\n",
      "user                 \n",
      "1     100.0  0.013261\n",
      "2     100.0  0.035441\n",
      "3     100.0  0.000000\n",
      "4     100.0  0.042730\n",
      "5     100.0  0.037237\n"
     ]
    }
   ],
   "source": [
    "rla = RecListAnalysis()\n",
    "rla.add_metric(ndcg)\n",
    "results = rla.compute(recs_bias, test_all)\n",
    "print(results.head())"
   ]
  },
  {
   "cell_type": "markdown",
   "metadata": {},
   "source": [
    "得到所有测试集用户的NDCG均值。"
   ]
  },
  {
   "cell_type": "code",
   "execution_count": 25,
   "metadata": {},
   "outputs": [
    {
     "name": "stdout",
     "output_type": "stream",
     "text": [
      "0.017595354789097562\n"
     ]
    }
   ],
   "source": [
    "ndcg_bias = results['ndcg'].mean()\n",
    "print(ndcg_bias)"
   ]
  },
  {
   "cell_type": "markdown",
   "metadata": {},
   "source": [
    "### 2. 评分预测\n",
    "\n",
    "遍历5组训练集和测试集，每次迭代用训练集做训练，并给测试集中的所有用户和影片组合预测评分。\n",
    "\n",
    "程序包`lenskit.batch`中的函数`predict()`用于给用户和影片组合批量预测评分，其中\n",
    "\n",
    "* 第1个参数`algo`表示推荐算法；\n",
    "* 第2个参数`pairs`表示需要预测评分的用户和影片组合，这里为所有测试集中的用户和影片组合。"
   ]
  },
  {
   "cell_type": "code",
   "execution_count": 26,
   "metadata": {},
   "outputs": [],
   "source": [
    "preds_all = []\n",
    "for i in range(5):\n",
    "    train, test = train_folds[i], test_folds[i]\n",
    "    algo_bias.fit(train)\n",
    "    preds = predict(algo_bias, test)\n",
    "    preds_all.append(preds)"
   ]
  },
  {
   "cell_type": "markdown",
   "metadata": {},
   "source": [
    "合并所有测试集的评分预测，为模型性能评估做准备。"
   ]
  },
  {
   "cell_type": "code",
   "execution_count": 27,
   "metadata": {},
   "outputs": [
    {
     "name": "stdout",
     "output_type": "stream",
     "text": [
      "   user  item  rating  prediction\n",
      "0     6   180     2.0    3.770021\n",
      "1     6   469     4.0    3.327164\n",
      "2     6   256     3.0    3.150693\n",
      "3     6   497     3.0    4.122036\n",
      "4     6   596     3.0    3.725312\n"
     ]
    }
   ],
   "source": [
    "preds_bias = pd.concat(preds_all, ignore_index=True)\n",
    "print(preds_bias.head())"
   ]
  },
  {
   "cell_type": "markdown",
   "metadata": {},
   "source": [
    "调用程序包`lenskit.metrics.predict`中的函数`rmse()`计算预测评分与真实评分的均方根误差，其中\n",
    "\n",
    "* 第1个参数`predictions`表示预测评分；\n",
    "* 第2个参数`truth`表示真实评分。"
   ]
  },
  {
   "cell_type": "code",
   "execution_count": 28,
   "metadata": {},
   "outputs": [
    {
     "name": "stdout",
     "output_type": "stream",
     "text": [
      "0.8966295630099046\n"
     ]
    }
   ],
   "source": [
    "rmse_bias = rmse(preds_bias['prediction'], preds_bias['rating'])\n",
    "print(rmse_bias)"
   ]
  },
  {
   "cell_type": "markdown",
   "metadata": {},
   "source": [
    "## 四、基于电影相似度的协同过滤推荐\n",
    "\n",
    "调用程序包`lenskit.algorithms.item_knn`中的构造函数`ItemItem()`创建基于电影相似度的协同过滤算法，其中\n",
    "\n",
    "* 第1个参数`nnbrs`表示$k$近邻的数量。"
   ]
  },
  {
   "cell_type": "code",
   "execution_count": 29,
   "metadata": {},
   "outputs": [],
   "source": [
    "algo_ii = ItemItem(20)"
   ]
  },
  {
   "cell_type": "markdown",
   "metadata": {},
   "source": [
    "主要以两种方式评估推荐算法。第一种是由推荐算法预测每个用户评分最高的前$k$个电影列表，与实际该用户评分了的电影做对比，计算根据排名加权的重合度。第二种是由推荐算法预测每个用户已评分的电影的评分，与真实值做对比计算误差。\n",
    "\n",
    "### 1. 推荐列表\n",
    "\n",
    "遍历5组训练集和测试集，每次迭代用训练集做训练，并给测试集中的所有用户推荐每个用户评分最高的前100个电影列表。"
   ]
  },
  {
   "cell_type": "code",
   "execution_count": 31,
   "metadata": {},
   "outputs": [],
   "source": [
    "recs_all = []\n",
    "for i in range(5):\n",
    "    train, test = train_folds[i], test_folds[i]\n",
    "    algo_ii.fit(train)\n",
    "    users = test.user.unique()\n",
    "    recs = recommend(algo_ii, users, 100, UnratedCandidates(candidates))\n",
    "    recs_all.append(recs)"
   ]
  },
  {
   "cell_type": "markdown",
   "metadata": {},
   "source": [
    "合并所有测试集的推荐列表，为模型性能评估做准备。"
   ]
  },
  {
   "cell_type": "code",
   "execution_count": 32,
   "metadata": {},
   "outputs": [
    {
     "name": "stdout",
     "output_type": "stream",
     "text": [
      "     item     score  user  rank\n",
      "0  177593  5.330335     6     1\n",
      "1    4334  5.200241     6     2\n",
      "2    1178  5.164970     6     3\n",
      "3  106642  5.138781     6     4\n",
      "4    7156  5.124015     6     5\n"
     ]
    }
   ],
   "source": [
    "recs_ii = pd.concat(recs_all, ignore_index=True)\n",
    "print(recs_ii.head())"
   ]
  },
  {
   "cell_type": "markdown",
   "metadata": {},
   "source": [
    "使用基于电影相似度的协同过滤算法的属性`sim_matrix_`得到电影的相似度矩阵，并经过一系列变换得到与标识符为1的电影（《玩具总动员1》）相似度最高的前10个电影。"
   ]
  },
  {
   "cell_type": "code",
   "execution_count": 34,
   "metadata": {},
   "outputs": [],
   "source": [
    "movies = pd.read_csv('./Datasets/ml-latest-small/movies.csv')\n",
    "movies = movies.rename(columns={'movieId': 'item'})"
   ]
  },
  {
   "cell_type": "code",
   "execution_count": 36,
   "metadata": {},
   "outputs": [
    {
     "name": "stdout",
     "output_type": "stream",
     "text": [
      "                                               title  \\\n",
      "item                                                   \n",
      "6377                             Finding Nemo (2003)   \n",
      "3114                              Toy Story 2 (1999)   \n",
      "588                                   Aladdin (1992)   \n",
      "8961                         Incredibles, The (2004)   \n",
      "1367                           101 Dalmatians (1996)   \n",
      "2731  400 Blows, The (Les quatre cents coups) (1959)   \n",
      "788                      Nutty Professor, The (1996)   \n",
      "6867                       Station Agent, The (2003)   \n",
      "500                            Mrs. Doubtfire (1993)   \n",
      "158                                    Casper (1995)   \n",
      "\n",
      "                                           genres  \n",
      "item                                               \n",
      "6377          Adventure|Animation|Children|Comedy  \n",
      "3114  Adventure|Animation|Children|Comedy|Fantasy  \n",
      "588   Adventure|Animation|Children|Comedy|Musical  \n",
      "8961   Action|Adventure|Animation|Children|Comedy  \n",
      "1367                    Adventure|Children|Comedy  \n",
      "2731                                  Crime|Drama  \n",
      "788                 Comedy|Fantasy|Romance|Sci-Fi  \n",
      "6867                                 Comedy|Drama  \n",
      "500                                  Comedy|Drama  \n",
      "158                            Adventure|Children  \n"
     ]
    }
   ],
   "source": [
    "sim_matrix = algo_ii.sim_matrix_.to_scipy()\n",
    "item_sim=np.array(sim_matrix[algo_ii.item_index_.get_loc(1),].todense()).flatten()\n",
    "print(movies.set_index(\"item\").loc[algo_ii.item_index_[item_sim.argsort()[-10:][::-1]]])"
   ]
  },
  {
   "cell_type": "markdown",
   "metadata": {},
   "source": [
    "计算测试集用户的NDCG均值。"
   ]
  },
  {
   "cell_type": "code",
   "execution_count": 37,
   "metadata": {},
   "outputs": [
    {
     "name": "stdout",
     "output_type": "stream",
     "text": [
      "0.02351948598461819\n"
     ]
    }
   ],
   "source": [
    "rla = RecListAnalysis()\n",
    "rla.add_metric(ndcg)\n",
    "results = rla.compute(recs_ii, test_all)\n",
    "ndcg_ii = results['ndcg'].mean()\n",
    "print(ndcg_ii)"
   ]
  },
  {
   "cell_type": "markdown",
   "metadata": {},
   "source": [
    "### 2. 评分预测\n",
    "\n",
    "遍历5组训练集和测试集，每次迭代用训练集做训练，并给测试集中的所有用户和影片组合预测评分。"
   ]
  },
  {
   "cell_type": "code",
   "execution_count": 38,
   "metadata": {},
   "outputs": [],
   "source": [
    "preds_ii = []\n",
    "for i in range(5):\n",
    "    train, test = train_folds[i], test_folds[i]\n",
    "    algo_ii.fit(train)\n",
    "    preds = predict(algo_ii, test)\n",
    "    preds_ii.append(preds)"
   ]
  },
  {
   "cell_type": "markdown",
   "metadata": {},
   "source": [
    "合并所有测试集的评分预测，为模型性能评估做准备。"
   ]
  },
  {
   "cell_type": "code",
   "execution_count": 39,
   "metadata": {},
   "outputs": [
    {
     "name": "stdout",
     "output_type": "stream",
     "text": [
      "   user  item  rating  prediction\n",
      "0     6   180     2.0    3.452345\n",
      "1     6   469     4.0    2.994388\n",
      "2     6   256     3.0    3.378852\n",
      "3     6   497     3.0    4.183068\n",
      "4     6   596     3.0    3.920715\n"
     ]
    }
   ],
   "source": [
    "preds_ii = pd.concat(preds_ii, ignore_index=True)\n",
    "print(preds_ii.head())"
   ]
  },
  {
   "cell_type": "markdown",
   "metadata": {},
   "source": [
    "调用程序包`lenskit.metrics.predict`中的函数`rmse()`计算预测评分与真实评分的均方根误差，其中\n",
    "\n",
    "* 第1个参数`predictions`表示预测评分；\n",
    "* 第2个参数`truth`表示真实评分。"
   ]
  },
  {
   "cell_type": "code",
   "execution_count": 40,
   "metadata": {},
   "outputs": [
    {
     "name": "stdout",
     "output_type": "stream",
     "text": [
      "0.8490577918094997\n"
     ]
    }
   ],
   "source": [
    "rmse_ii = rmse(preds_ii['prediction'], preds_ii['rating'])\n",
    "print(rmse_ii)"
   ]
  },
  {
   "cell_type": "markdown",
   "metadata": {},
   "source": [
    "## 五、基于矩阵分解的协同过滤推荐\n",
    "\n",
    "该算法使用交替最小二乘法（alternating least squares）训练偏差矩阵分解，具体方法参考论文<https://dl.acm.org/citation.cfm?id=1424269>。\n",
    "\n",
    "调用程序包`lenskit.algorithms.als`中的构造函数`BiasedMF()`创建基于矩阵分解的协同过滤算法，其中\n",
    "\n",
    "* 第1个参数`features`表示隐因子的数量；\n",
    "* 第2个参数`iterations`表示迭代次数；\n",
    "* 第3个参数`reg`表示正则化参数；\n",
    "* 第4个参数`damping`表示阻尼参数。"
   ]
  },
  {
   "cell_type": "code",
   "execution_count": 41,
   "metadata": {},
   "outputs": [],
   "source": [
    "algo_als = BiasedMF(50)"
   ]
  },
  {
   "cell_type": "markdown",
   "metadata": {},
   "source": [
    "在后续章节中，主要以两种方式评估推荐算法。第一种是由推荐算法预测每个用户评分最高的前$k$个电影列表，与实际该用户评分了的电影做对比，计算根据排名加权的重合度。第二种是由推荐算法预测每个用户已评分的电影的评分，与真实值做对比计算误差。\n",
    "\n",
    "### 1. 推荐列表\n",
    "\n",
    "遍历5组训练集和测试集，每次迭代用训练集做训练，并给测试集中的所有用户推荐每个用户评分最高的前100个电影列表。"
   ]
  },
  {
   "cell_type": "code",
   "execution_count": 43,
   "metadata": {},
   "outputs": [],
   "source": [
    "recs_all = []\n",
    "for i in range(5):\n",
    "    train, test = train_folds[i], test_folds[i]\n",
    "    algo_als.fit(train)\n",
    "    users = test.user.unique()\n",
    "    recs = recommend(algo_als, users, 100, UnratedCandidates(candidates))\n",
    "    recs_all.append(recs)"
   ]
  },
  {
   "cell_type": "code",
   "execution_count": 44,
   "metadata": {
    "scrolled": true
   },
   "outputs": [
    {
     "name": "stdout",
     "output_type": "stream",
     "text": [
      "     item     score  user  rank\n",
      "0    1237  4.662749     6     1\n",
      "1   80906  4.630319     6     2\n",
      "2    1198  4.618265     6     3\n",
      "3    1235  4.609269     6     4\n",
      "4  106642  4.567431     6     5\n"
     ]
    }
   ],
   "source": [
    "recs_als = pd.concat(recs_all, ignore_index=True)\n",
    "print(recs_als.head())"
   ]
  },
  {
   "cell_type": "markdown",
   "metadata": {},
   "source": [
    "计算测试集用户的NDCG均值。"
   ]
  },
  {
   "cell_type": "code",
   "execution_count": 45,
   "metadata": {},
   "outputs": [
    {
     "name": "stdout",
     "output_type": "stream",
     "text": [
      "0.0775176690540789\n"
     ]
    }
   ],
   "source": [
    "rla = RecListAnalysis()\n",
    "rla.add_metric(ndcg)\n",
    "results = rla.compute(recs_als, test_all)\n",
    "ndcg_als = results['ndcg'].mean()\n",
    "print(ndcg_als)"
   ]
  },
  {
   "cell_type": "markdown",
   "metadata": {},
   "source": [
    "###  2. 评分预测\n",
    "\n",
    "遍历5组训练集和测试集，每次迭代用训练集做训练，并给测试集中的所有用户和影片组合预测评分。"
   ]
  },
  {
   "cell_type": "code",
   "execution_count": 46,
   "metadata": {},
   "outputs": [],
   "source": [
    "preds_all = []\n",
    "for i in range(5):\n",
    "    train, test = train_folds[i], test_folds[i]\n",
    "    algo_als.fit(train)\n",
    "    preds = predict(algo_als, test)\n",
    "    preds_all.append(preds)"
   ]
  },
  {
   "cell_type": "markdown",
   "metadata": {},
   "source": [
    "合并所有测试集的评分预测，为模型性能评估做准备。"
   ]
  },
  {
   "cell_type": "code",
   "execution_count": 47,
   "metadata": {},
   "outputs": [
    {
     "name": "stdout",
     "output_type": "stream",
     "text": [
      "   user  item  rating  prediction\n",
      "0     6   180     2.0    3.278422\n",
      "1     6   469     4.0    3.587012\n",
      "2     6   256     3.0    3.263860\n",
      "3     6   497     3.0    4.033837\n",
      "4     6   596     3.0    3.835205\n"
     ]
    }
   ],
   "source": [
    "preds_als = pd.concat(preds_all, ignore_index=True)\n",
    "print(preds_als.head())"
   ]
  },
  {
   "cell_type": "markdown",
   "metadata": {},
   "source": [
    "调用程序包`lenskit.metrics.predict`中的函数`rmse()`计算预测评分与真实评分的均方根误差，其中\n",
    "\n",
    "* 第1个参数`predictions`表示预测评分；\n",
    "* 第2个参数`truth`表示真实评分。"
   ]
  },
  {
   "cell_type": "code",
   "execution_count": 48,
   "metadata": {},
   "outputs": [
    {
     "name": "stdout",
     "output_type": "stream",
     "text": [
      "0.8396846420032201\n"
     ]
    }
   ],
   "source": [
    "rmse_als = rmse(preds_als['prediction'], preds_als['rating'])\n",
    "print(rmse_als)"
   ]
  },
  {
   "cell_type": "markdown",
   "metadata": {},
   "source": [
    "## 六、推荐算法的测试和评估\n",
    "\n",
    "### 1. 归一化衰减累积增益（NDCG）\n",
    "\n",
    "绘制3种推荐算法用于推荐列表的NDCG。可以看出，基于个性化平均评分的推荐最差，基于矩阵分解的协同过滤推荐最好。\n"
   ]
  },
  {
   "cell_type": "code",
   "execution_count": 49,
   "metadata": {
    "scrolled": true
   },
   "outputs": [
    {
     "data": {
      "image/png": "[encoded data removed]",
      "text/plain": [
       "<Figure size 432x288 with 1 Axes>"
      ]
     },
     "metadata": {
      "needs_background": "light"
     },
     "output_type": "display_data"
    }
   ],
   "source": [
    "plt.figure()\n",
    "plt.bar(['Mean','Item-based','ALS'],[ndcg_bias, ndcg_ii, ndcg_als])\n",
    "plt.show()"
   ]
  },
  {
   "cell_type": "markdown",
   "metadata": {},
   "source": [
    "### 2. 均方根误差\n",
    "\n",
    "绘制3种推荐算法用于预测评分的均方根误差。可以看出，基于个性化平均评分的推荐最差，基于矩阵分解的协同过滤推荐最好。"
   ]
  },
  {
   "cell_type": "code",
   "execution_count": 50,
   "metadata": {
    "scrolled": true
   },
   "outputs": [
    {
     "data": {
      "image/png": "[encoded data removed]",
      "text/plain": [
       "<Figure size 432x288 with 1 Axes>"
      ]
     },
     "metadata": {
      "needs_background": "light"
     },
     "output_type": "display_data"
    }
   ],
   "source": [
    "plt.figure()\n",
    "plt.bar(['Mean','Item-based','ALS'],[rmse_bias, rmse_ii, rmse_als])\n",
    "plt.show()"
   ]
  },
  {
   "cell_type": "markdown",
   "metadata": {},
   "source": [
    "### 3. 推荐列表\n",
    "\n",
    "得到标识符为145的用户在测试集中的电影列表。"
   ]
  },
  {
   "cell_type": "code",
   "execution_count": 51,
   "metadata": {},
   "outputs": [
    {
     "name": "stdout",
     "output_type": "stream",
     "text": [
      "[1, 153, 292, 231, 165]\n"
     ]
    }
   ],
   "source": [
    "user_145_test_items = test_all.loc[(test_all['user']==145)]['item'].tolist()\n",
    "print(user_145_test_items)"
   ]
  },
  {
   "cell_type": "markdown",
   "metadata": {},
   "source": [
    "查看该用户在训练集中的电影列表，这些记录输入了推荐算法用于训练。"
   ]
  },
  {
   "cell_type": "code",
   "execution_count": 52,
   "metadata": {
    "scrolled": false
   },
   "outputs": [
    {
     "name": "stdout",
     "output_type": "stream",
     "text": [
      "    user  item  rating  timestamp                              title                                           genres\n",
      "0    145    50     5.0  832105428         Usual Suspects, The (1995)                           Crime|Mystery|Thriller\n",
      "1    145   111     4.0  832105479                 Taxi Driver (1976)                             Crime|Drama|Thriller\n",
      "2    145   150     3.0  832105148                   Apollo 13 (1995)                             Adventure|Drama|IMAX\n",
      "3    145   161     4.0  832105242                Crimson Tide (1995)                               Drama|Thriller|War\n",
      "4    145   208     3.0  832105394                  Waterworld (1995)                          Action|Adventure|Sci-Fi\n",
      "5    145   296     4.0  832105148                Pulp Fiction (1994)                      Comedy|Crime|Drama|Thriller\n",
      "6    145   300     3.0  832105394                   Quiz Show (1994)                                            Drama\n",
      "7    145   316     2.0  832105216                    Stargate (1994)                          Action|Adventure|Sci-Fi\n",
      "8    145   318     3.0  832105216   Shawshank Redemption, The (1994)                                      Crime|Drama\n",
      "9    145   329     3.0  832105216      Star Trek: Generations (1994)                           Adventure|Drama|Sci-Fi\n",
      "10   145   339     3.0  832105242     While You Were Sleeping (1995)                                   Comedy|Romance\n",
      "11   145   344     2.0  832105183  Ace Ventura: Pet Detective (1994)                                           Comedy\n",
      "12   145   380     3.0  832105148                   True Lies (1994)         Action|Adventure|Comedy|Romance|Thriller\n",
      "13   145   434     3.0  832105242                 Cliffhanger (1993)                        Action|Adventure|Thriller\n",
      "14   145   588     4.0  832105183                     Aladdin (1992)      Adventure|Animation|Children|Comedy|Musical\n",
      "15   145   590     4.0  832105148          Dances with Wolves (1990)                          Adventure|Drama|Western\n",
      "16   145   592     3.0  832105148                      Batman (1989)                            Action|Crime|Thriller\n",
      "17   145   595     4.0  832105216        Beauty and the Beast (1991)  Animation|Children|Fantasy|Musical|Romance|IMAX\n"
     ]
    }
   ],
   "source": [
    "print(ratings.loc[(ratings['user']==145) & (~ratings['item'].isin(user_145_test_items))].merge(movies).to_string())"
   ]
  },
  {
   "cell_type": "code",
   "execution_count": 53,
   "metadata": {},
   "outputs": [],
   "source": [
    "movies = pd.read_csv('./Datasets/ml-latest-small/movies.csv')\n",
    "movies = movies.rename(columns={'movieId': 'item'})"
   ]
  },
  {
   "cell_type": "markdown",
   "metadata": {},
   "source": [
    "查看基于个性化平均评分推荐的前20条推荐列表"
   ]
  },
  {
   "cell_type": "code",
   "execution_count": 55,
   "metadata": {},
   "outputs": [
    {
     "name": "stdout",
     "output_type": "stream",
     "text": [
      "      item     score  user  rank                                                                           title                        genres\n",
      "0     6460  4.592158   145     1                                                  Trial, The (Procès, Le) (1962)                         Drama\n",
      "1   177593  4.442158   145     2                                Three Billboards Outside Ebbing, Missouri (2017)                   Crime|Drama\n",
      "2    31364  4.392158   145     3                                      Memories of Murder (Salinui chueok) (2003)  Crime|Drama|Mystery|Thriller\n",
      "3     2239  4.358824   145     4  Swept Away (Travolti da un insolito destino nell'azzurro mare d'Agosto) (1975)                  Comedy|Drama\n",
      "4     4406  4.317158   145     5                                        Man Who Shot Liberty Valance, The (1962)           Crime|Drama|Western\n",
      "5    26131  4.317158   145     6                          Battle of Algiers, The (La battaglia di Algeri) (1966)                     Drama|War\n",
      "6     4334  4.292158   145     7                                                                    Yi Yi (2000)                         Drama\n",
      "7   106642  4.263586   145     8                                                   Day of the Doctor, The (2013)        Adventure|Drama|Sci-Fi\n",
      "8     1041  4.242158   145     9                                                           Secrets & Lies (1996)                         Drama\n",
      "9     1178  4.242158   145    10                                                           Paths of Glory (1957)                     Drama|War\n",
      "10    1192  4.192158   145    11                                                         Paris Is Burning (1990)                   Documentary\n",
      "11    2732  4.192158   145    12                                             Jules and Jim (Jules et Jim) (1961)                 Drama|Romance\n",
      "12    2925  4.192158   145    13                                        Conformist, The (Conformista, Il) (1970)                         Drama\n",
      "13    3152  4.192158   145    14                                                   Last Picture Show, The (1971)                         Drama\n",
      "14    3201  4.192158   145    15                                                         Five Easy Pieces (1970)                         Drama\n",
      "15    3266  4.192158   145    16                           Man Bites Dog (C'est arrivé près de chez vous) (1992)   Comedy|Crime|Drama|Thriller\n",
      "16    3451  4.192158   145    17                                             Guess Who's Coming to Dinner (1967)                         Drama\n",
      "17    4021  4.192158   145    18                                                       Before Night Falls (2000)                         Drama\n",
      "18    6591  4.192158   145    19                                                   Magdalene Sisters, The (2002)                         Drama\n",
      "19  158966  4.192158   145    20                                                        Captain Fantastic (2016)                         Drama\n"
     ]
    }
   ],
   "source": [
    "print(recs_bias.loc[recs_bias['user']==145].head(20).merge(movies).to_string())"
   ]
  },
  {
   "cell_type": "markdown",
   "metadata": {},
   "source": [
    "查看电影相似度的协同过滤推荐的前20条推荐列表"
   ]
  },
  {
   "cell_type": "code",
   "execution_count": 56,
   "metadata": {},
   "outputs": [
    {
     "name": "stdout",
     "output_type": "stream",
     "text": [
      "      item     score  user  rank                                                          title                 genres\n",
      "0   183897  4.933506   145     1                                            Isle of Dogs (2018)       Animation|Comedy\n",
      "1    26131  4.540056   145     2         Battle of Algiers, The (La battaglia di Algeri) (1966)              Drama|War\n",
      "2   177593  4.511852   145     3               Three Billboards Outside Ebbing, Missouri (2017)            Crime|Drama\n",
      "3      951  4.455785   145     4                                         His Girl Friday (1940)         Comedy|Romance\n",
      "4     6460  4.426753   145     5                                 Trial, The (Procès, Le) (1962)                  Drama\n",
      "5     6887  4.424838   145     6                                                   Radio (2003)                  Drama\n",
      "6    55276  4.393038   145     7                                         Michael Clayton (2007)         Drama|Thriller\n",
      "7     4334  4.382858   145     8                                                   Yi Yi (2000)                  Drama\n",
      "8     5379  4.374303   145     9                                           Believer, The (2001)                  Drama\n",
      "9     3451  4.364180   145    10                            Guess Who's Coming to Dinner (1967)                  Drama\n",
      "10    1041  4.361206   145    11                                          Secrets & Lies (1996)                  Drama\n",
      "11    3310  4.352480   145    12                                                Kid, The (1921)           Comedy|Drama\n",
      "12     918  4.343803   145    13                                    Meet Me in St. Louis (1944)                Musical\n",
      "13    3435  4.326770   145    14                                        Double Indemnity (1944)  Crime|Drama|Film-Noir\n",
      "14    2357  4.316953   145    15                     Central Station (Central do Brasil) (1998)                  Drama\n",
      "15    1209  4.313542   145    16  Once Upon a Time in the West (C'era una volta il West) (1968)   Action|Drama|Western\n",
      "16    1283  4.275887   145    17                                               High Noon (1952)          Drama|Western\n",
      "17    4021  4.269365   145    18                                      Before Night Falls (2000)                  Drama\n",
      "18     475  4.268240   145    19                               In the Name of the Father (1993)                  Drama\n",
      "19    3030  4.264679   145    20                                                 Yojimbo (1961)       Action|Adventure\n"
     ]
    }
   ],
   "source": [
    "print(recs_ii.loc[recs_ii['user']==145].head(20).merge(movies).to_string())"
   ]
  },
  {
   "cell_type": "markdown",
   "metadata": {},
   "source": [
    "查看基于矩阵分解的协同过滤推荐的前20条推荐列表"
   ]
  },
  {
   "cell_type": "code",
   "execution_count": null,
   "metadata": {},
   "outputs": [],
   "source": []
  },
  {
   "cell_type": "markdown",
   "metadata": {},
   "source": [
    "### 4. 评分预测\n",
    "\n",
    "查看基于个性化平均评分推荐的评分预测。"
   ]
  },
  {
   "cell_type": "code",
   "execution_count": 57,
   "metadata": {
    "scrolled": true
   },
   "outputs": [
    {
     "name": "stdout",
     "output_type": "stream",
     "text": [
      "   user  item  rating  prediction                                   title                                       genres\n",
      "0   145     1     5.0    3.622446                        Toy Story (1995)  Adventure|Animation|Children|Comedy|Fantasy\n",
      "1   145   153     3.0    2.610762                   Batman Forever (1995)                Action|Adventure|Comedy|Crime\n",
      "2   145   292     3.0    3.114033                         Outbreak (1995)                 Action|Drama|Sci-Fi|Thriller\n",
      "3   145   231     3.0    2.779459  Dumb & Dumber (Dumb and Dumber) (1994)                             Adventure|Comedy\n",
      "4   145   165     3.0    3.274301       Die Hard: With a Vengeance (1995)                        Action|Crime|Thriller\n"
     ]
    }
   ],
   "source": [
    "print(preds_bias.loc[preds_bias['user']==145].merge(movies).to_string())"
   ]
  },
  {
   "cell_type": "markdown",
   "metadata": {},
   "source": [
    "查看电影相似度的协同过滤推荐的评分预测"
   ]
  },
  {
   "cell_type": "code",
   "execution_count": 58,
   "metadata": {
    "scrolled": true
   },
   "outputs": [
    {
     "name": "stdout",
     "output_type": "stream",
     "text": [
      "   user  item  rating  prediction                                   title                                       genres\n",
      "0   145     1     5.0    3.715453                        Toy Story (1995)  Adventure|Animation|Children|Comedy|Fantasy\n",
      "1   145   153     3.0    2.539796                   Batman Forever (1995)                Action|Adventure|Comedy|Crime\n",
      "2   145   292     3.0    3.075208                         Outbreak (1995)                 Action|Drama|Sci-Fi|Thriller\n",
      "3   145   231     3.0    2.571410  Dumb & Dumber (Dumb and Dumber) (1994)                             Adventure|Comedy\n",
      "4   145   165     3.0    3.309621       Die Hard: With a Vengeance (1995)                        Action|Crime|Thriller\n"
     ]
    }
   ],
   "source": [
    "print(preds_ii.loc[preds_ii['user']==145].merge(movies).to_string())"
   ]
  },
  {
   "cell_type": "markdown",
   "metadata": {},
   "source": [
    "查看基于矩阵分解的协同过滤推荐的评分预测"
   ]
  },
  {
   "cell_type": "code",
   "execution_count": 59,
   "metadata": {},
   "outputs": [
    {
     "name": "stdout",
     "output_type": "stream",
     "text": [
      "   user  item  rating  prediction                                   title                                       genres\n",
      "0   145     1     5.0    3.715347                        Toy Story (1995)  Adventure|Animation|Children|Comedy|Fantasy\n",
      "1   145   153     3.0    2.577660                   Batman Forever (1995)                Action|Adventure|Comedy|Crime\n",
      "2   145   292     3.0    3.031639                         Outbreak (1995)                 Action|Drama|Sci-Fi|Thriller\n",
      "3   145   231     3.0    2.537054  Dumb & Dumber (Dumb and Dumber) (1994)                             Adventure|Comedy\n",
      "4   145   165     3.0    3.354366       Die Hard: With a Vengeance (1995)                        Action|Crime|Thriller\n"
     ]
    }
   ],
   "source": [
    "print(preds_als.loc[preds_als['user']==145].merge(movies).to_string())"
   ]
  }
 ],
 "metadata": {
  "kernelspec": {
   "display_name": "pytorch",
   "language": "python",
   "name": "tensorflow_gpu"
  },
  "language_info": {
   "codemirror_mode": {
    "name": "ipython",
    "version": 3
   },
   "file_extension": ".py",
   "mimetype": "text/x-python",
   "name": "python",
   "nbconvert_exporter": "python",
   "pygments_lexer": "ipython3",
   "version": "3.6.10"
  }
 },
 "nbformat": 4,
 "nbformat_minor": 2
}
